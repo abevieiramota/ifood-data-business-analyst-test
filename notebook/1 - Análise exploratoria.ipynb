{
 "cells": [
  {
   "cell_type": "markdown",
   "metadata": {},
   "source": [
    "Este notebook está estruturado em células de análise, seguidas de células com as conclusões e encaminhamentos resultantes.\n",
    "\n",
    "Descoberta 1 ...\n",
    "* *Encaminhamento 1.1 ...*\n",
    "* *Encaminhamento 1.2 ...*\n",
    "\n",
    "Descoberta 2 ...\n",
    "* *Encaminhamento 2.1 ...*\n",
    "* *Encaminhamento 2.2 ...*"
   ]
  },
  {
   "cell_type": "code",
   "execution_count": 27,
   "metadata": {},
   "outputs": [],
   "source": [
    "%matplotlib inline\n",
    "%run ../scripts/toolbelt.py\n",
    "import pandas as pd"
   ]
  },
  {
   "cell_type": "code",
   "execution_count": 31,
   "metadata": {},
   "outputs": [
    {
     "data": {
      "text/plain": [
       "0       2012-09-04\n",
       "1       2014-03-08\n",
       "2       2013-08-21\n",
       "3       2014-02-10\n",
       "4       2014-01-19\n",
       "           ...    \n",
       "2235    2013-06-13\n",
       "2236    2014-06-10\n",
       "2237    2014-01-25\n",
       "2238    2014-01-24\n",
       "2239    2012-10-15\n",
       "Name: Dt_Customer, Length: 2240, dtype: object"
      ]
     },
     "execution_count": 31,
     "metadata": {},
     "output_type": "execute_result"
    }
   ],
   "source": [
    "df.Dt_Customer.dt."
   ]
  },
  {
   "cell_type": "code",
   "execution_count": 30,
   "metadata": {},
   "outputs": [],
   "source": [
    "df = pd.read_csv('../data/ml_project1_data.csv', parse_dates=True)"
   ]
  },
  {
   "cell_type": "markdown",
   "metadata": {},
   "source": [
    "# Relatório gerado pelo pandas_profiling\n",
    "\n",
    "**ID** é um numérico identificador único dos registros - considerar que é um dado que não carrega informação relevante para o problema\n",
    "* *Utilizar como index do dataframe.*\n",
    "\n",
    "**Marital_Status** possui valores que desconheço como valores significativos para o que entendo por \"Marital Status\": \"Absurd\", \"YOLO\", \"Alone\" (total de 7 registros)\n",
    "* *Analisar os registros com esses valores, buscando verificar se há indícios de serem inválidos. Em caso positivo, remover do dataset.*\n",
    "\n",
    "**Income:**\n",
    "* possui como maior valor \"666666\", que chama a atenção tanto pelo padrão de repetição de dígitos, quanto por ser um valor bastante distante do segundo maior valor, \"162397\"\n",
    "    * *Analisar o registro com esse valor, buscando verificar se há indícios de ser inválido. Em caso positivo, remover do dataset.*\n",
    "* está com valor nulo em 24 registros\n",
    "    * *Analisar os registros com **Income** null, buscando verificar se há indícios de serem inválidos. Em caso positivo, remover do dataset.*\n",
    "    \n",
    "**Kidhome** e **Teenhome** possuem distribuição de valores bastante similares (0 -> ~1.2k, 1 -> ~950, 2 -> ~50)\n",
    "* *Analisar a distribuição conjunta dos dois atributos*\n",
    "\n",
    "**Dt_Customer** é um campo de data\n",
    "* *Extrair como atributos o ano e a diferença para 2015, que é o ano do maior valor de Dt_Customer + 1 (somado 1 para ter valor mínimo = 1 e permitir calcular médias de valores por ano de relacionamento).*\n",
    "\n",
    "**Recency** - há um atributo referente ao último mês (**NumWebVisitsMonth**)\n",
    "* *Gerar atributo indicando se **Recency** > 1 mês = 30*\n",
    "\n",
    "Todas os atributos **Mnt** possuem uma distribuição com concentração maior nos menores valores. Ex: **MntWines**\n",
    "\n",
    "<img src=\"../imgs/mntwine_histogram.png\" />\n",
    "\n",
    "* *Gerar atributo com o total gasto, somando todos atributos **Mnt**.*\n",
    "* *Gerar, para cada atributo **Mnt**, um atributo contendo a proporção entre seu valor e o total gasto (definido no item acima).*\n",
    "* *Gerar um atributo informando qual atributo **Mnt** tem maior valor entre todos **Mnt** do registro.*\n",
    "\n",
    "**Num{sales_channel}Purchases** representam a quantidade de compras por canal de venda (não está especificado o período a que se referem esses dados, diferente das variáveis **Mnt**, que se referem aos últimos 2 anos)\n",
    "* *Gerar atributo com o total de compras, somando todos atributos **Num{sales_channel}Purchases**.*\n",
    "* *Gerar, para cada atributo **Num{sales_channel}Purchases**, um atributo contendo a proporção entre seu valor e o total de compras (definido no item acima).*\n",
    "* *Gerar um atributo informando qual o atributo **Num{sales_channel}Purchases** tem maior valor entre todos **Num{sales_channel}Purchases** do registro.*\n",
    "\n",
    "**NumDealsPurchases** representa a quantidade de compras usando descontos\n",
    "* *Gerar atributo com a proporção entre **NumDealsPurchases** e o total de compras (ver notas de **Num{sales_channel}Purchases**)*.\n",
    "\n",
    "**MntGoldProds** representa o total gasto com produtos *gold*\n",
    "* *Gerar atributo com a proporção entre **MntGoldProds** e o total gasto"
   ]
  },
  {
   "cell_type": "markdown",
   "metadata": {},
   "source": [
    "# Análise dos atributos\n",
    "\n",
    "* Distribuição de valores\n",
    "* Missing data\n",
    "* Outliers\n",
    "* Dados inválidos ou suspeitos\n"
   ]
  },
  {
   "cell_type": "markdown",
   "metadata": {},
   "source": [
    "## Year_Birth"
   ]
  },
  {
   "cell_type": "code",
   "execution_count": 6,
   "metadata": {},
   "outputs": [
    {
     "data": {
      "text/plain": [
       "count    2240.000000\n",
       "mean     1968.805804\n",
       "std        11.984069\n",
       "min      1893.000000\n",
       "10%      1952.000000\n",
       "25%      1959.000000\n",
       "50%      1970.000000\n",
       "75%      1977.000000\n",
       "90%      1984.000000\n",
       "max      1996.000000\n",
       "Name: Year_Birth, dtype: float64"
      ]
     },
     "execution_count": 6,
     "metadata": {},
     "output_type": "execute_result"
    }
   ],
   "source": [
    "year_birth = df[\"Year_Birth\"]\n",
    "\n",
    "year_birth_desc = year_birth.describe(percentiles=[.1, .25, .5, .75, .9])\n",
    "\n",
    "year_birth_desc"
   ]
  },
  {
   "cell_type": "markdown",
   "metadata": {},
   "source": [
    "**O valor mínimo é suspeito (supondo que os dados foram gerados em 1996, o valor máximo, teríamos um cliente com ~103 anos).**\n",
    "* *Utilizar um critério de detecção de outliers e analisar seus valores -> analisar os valores usando inter-quartile range.*"
   ]
  },
  {
   "cell_type": "code",
   "execution_count": 22,
   "metadata": {},
   "outputs": [
    {
     "data": {
      "text/plain": [
       "192    1900\n",
       "239    1893\n",
       "339    1899\n",
       "Name: Year_Birth, dtype: int64"
      ]
     },
     "execution_count": 22,
     "metadata": {},
     "output_type": "execute_result"
    }
   ],
   "source": [
    "iqr_outliers(year_birth, kind='mild')"
   ]
  },
  {
   "cell_type": "code",
   "execution_count": 24,
   "metadata": {},
   "outputs": [
    {
     "data": {
      "text/plain": [
       "192    1900\n",
       "239    1893\n",
       "339    1899\n",
       "Name: Year_Birth, dtype: int64"
      ]
     },
     "execution_count": 24,
     "metadata": {},
     "output_type": "execute_result"
    }
   ],
   "source": [
    "extreme_outliers = iqr_outliers(year_birth, kind='extreme')\n",
    "_"
   ]
  },
  {
   "cell_type": "markdown",
   "metadata": {},
   "source": [
    "**O valor mínimo é suspeito (supondo que os dados foram gerados em 1996, o valor máximo, teríamos um cliente com ~103 anos).**\n",
    "* *Analisar os registros cujos anos são extreme outliers.*"
   ]
  },
  {
   "cell_type": "code",
   "execution_count": 26,
   "metadata": {},
   "outputs": [
    {
     "data": {
      "text/html": [
       "<div>\n",
       "<style scoped>\n",
       "    .dataframe tbody tr th:only-of-type {\n",
       "        vertical-align: middle;\n",
       "    }\n",
       "\n",
       "    .dataframe tbody tr th {\n",
       "        vertical-align: top;\n",
       "    }\n",
       "\n",
       "    .dataframe thead th {\n",
       "        text-align: right;\n",
       "    }\n",
       "</style>\n",
       "<table border=\"1\" class=\"dataframe\">\n",
       "  <thead>\n",
       "    <tr style=\"text-align: right;\">\n",
       "      <th></th>\n",
       "      <th>192</th>\n",
       "      <th>239</th>\n",
       "      <th>339</th>\n",
       "    </tr>\n",
       "  </thead>\n",
       "  <tbody>\n",
       "    <tr>\n",
       "      <th>ID</th>\n",
       "      <td>7829</td>\n",
       "      <td>11004</td>\n",
       "      <td>1150</td>\n",
       "    </tr>\n",
       "    <tr>\n",
       "      <th>Year_Birth</th>\n",
       "      <td>1900</td>\n",
       "      <td>1893</td>\n",
       "      <td>1899</td>\n",
       "    </tr>\n",
       "    <tr>\n",
       "      <th>Education</th>\n",
       "      <td>2n Cycle</td>\n",
       "      <td>2n Cycle</td>\n",
       "      <td>PhD</td>\n",
       "    </tr>\n",
       "    <tr>\n",
       "      <th>Marital_Status</th>\n",
       "      <td>Divorced</td>\n",
       "      <td>Single</td>\n",
       "      <td>Together</td>\n",
       "    </tr>\n",
       "    <tr>\n",
       "      <th>Income</th>\n",
       "      <td>36640.0</td>\n",
       "      <td>60182.0</td>\n",
       "      <td>83532.0</td>\n",
       "    </tr>\n",
       "    <tr>\n",
       "      <th>Kidhome</th>\n",
       "      <td>1</td>\n",
       "      <td>0</td>\n",
       "      <td>0</td>\n",
       "    </tr>\n",
       "    <tr>\n",
       "      <th>Teenhome</th>\n",
       "      <td>0</td>\n",
       "      <td>1</td>\n",
       "      <td>0</td>\n",
       "    </tr>\n",
       "    <tr>\n",
       "      <th>Dt_Customer</th>\n",
       "      <td>2013-09-26</td>\n",
       "      <td>2014-05-17</td>\n",
       "      <td>2013-09-26</td>\n",
       "    </tr>\n",
       "    <tr>\n",
       "      <th>Recency</th>\n",
       "      <td>99</td>\n",
       "      <td>23</td>\n",
       "      <td>36</td>\n",
       "    </tr>\n",
       "    <tr>\n",
       "      <th>MntWines</th>\n",
       "      <td>15</td>\n",
       "      <td>8</td>\n",
       "      <td>755</td>\n",
       "    </tr>\n",
       "    <tr>\n",
       "      <th>MntFruits</th>\n",
       "      <td>6</td>\n",
       "      <td>0</td>\n",
       "      <td>144</td>\n",
       "    </tr>\n",
       "    <tr>\n",
       "      <th>MntMeatProducts</th>\n",
       "      <td>8</td>\n",
       "      <td>5</td>\n",
       "      <td>562</td>\n",
       "    </tr>\n",
       "    <tr>\n",
       "      <th>MntFishProducts</th>\n",
       "      <td>7</td>\n",
       "      <td>7</td>\n",
       "      <td>104</td>\n",
       "    </tr>\n",
       "    <tr>\n",
       "      <th>MntSweetProducts</th>\n",
       "      <td>4</td>\n",
       "      <td>0</td>\n",
       "      <td>64</td>\n",
       "    </tr>\n",
       "    <tr>\n",
       "      <th>MntGoldProds</th>\n",
       "      <td>25</td>\n",
       "      <td>2</td>\n",
       "      <td>224</td>\n",
       "    </tr>\n",
       "    <tr>\n",
       "      <th>NumDealsPurchases</th>\n",
       "      <td>1</td>\n",
       "      <td>1</td>\n",
       "      <td>1</td>\n",
       "    </tr>\n",
       "    <tr>\n",
       "      <th>NumWebPurchases</th>\n",
       "      <td>2</td>\n",
       "      <td>1</td>\n",
       "      <td>4</td>\n",
       "    </tr>\n",
       "    <tr>\n",
       "      <th>NumCatalogPurchases</th>\n",
       "      <td>1</td>\n",
       "      <td>0</td>\n",
       "      <td>6</td>\n",
       "    </tr>\n",
       "    <tr>\n",
       "      <th>NumStorePurchases</th>\n",
       "      <td>2</td>\n",
       "      <td>2</td>\n",
       "      <td>4</td>\n",
       "    </tr>\n",
       "    <tr>\n",
       "      <th>NumWebVisitsMonth</th>\n",
       "      <td>5</td>\n",
       "      <td>4</td>\n",
       "      <td>1</td>\n",
       "    </tr>\n",
       "    <tr>\n",
       "      <th>AcceptedCmp3</th>\n",
       "      <td>0</td>\n",
       "      <td>0</td>\n",
       "      <td>0</td>\n",
       "    </tr>\n",
       "    <tr>\n",
       "      <th>AcceptedCmp4</th>\n",
       "      <td>0</td>\n",
       "      <td>0</td>\n",
       "      <td>0</td>\n",
       "    </tr>\n",
       "    <tr>\n",
       "      <th>AcceptedCmp5</th>\n",
       "      <td>0</td>\n",
       "      <td>0</td>\n",
       "      <td>1</td>\n",
       "    </tr>\n",
       "    <tr>\n",
       "      <th>AcceptedCmp1</th>\n",
       "      <td>0</td>\n",
       "      <td>0</td>\n",
       "      <td>0</td>\n",
       "    </tr>\n",
       "    <tr>\n",
       "      <th>AcceptedCmp2</th>\n",
       "      <td>0</td>\n",
       "      <td>0</td>\n",
       "      <td>0</td>\n",
       "    </tr>\n",
       "    <tr>\n",
       "      <th>Complain</th>\n",
       "      <td>1</td>\n",
       "      <td>0</td>\n",
       "      <td>0</td>\n",
       "    </tr>\n",
       "    <tr>\n",
       "      <th>Z_CostContact</th>\n",
       "      <td>3</td>\n",
       "      <td>3</td>\n",
       "      <td>3</td>\n",
       "    </tr>\n",
       "    <tr>\n",
       "      <th>Z_Revenue</th>\n",
       "      <td>11</td>\n",
       "      <td>11</td>\n",
       "      <td>11</td>\n",
       "    </tr>\n",
       "    <tr>\n",
       "      <th>Response</th>\n",
       "      <td>0</td>\n",
       "      <td>0</td>\n",
       "      <td>0</td>\n",
       "    </tr>\n",
       "  </tbody>\n",
       "</table>\n",
       "</div>"
      ],
      "text/plain": [
       "                            192         239         339\n",
       "ID                         7829       11004        1150\n",
       "Year_Birth                 1900        1893        1899\n",
       "Education              2n Cycle    2n Cycle         PhD\n",
       "Marital_Status         Divorced      Single    Together\n",
       "Income                  36640.0     60182.0     83532.0\n",
       "Kidhome                       1           0           0\n",
       "Teenhome                      0           1           0\n",
       "Dt_Customer          2013-09-26  2014-05-17  2013-09-26\n",
       "Recency                      99          23          36\n",
       "MntWines                     15           8         755\n",
       "MntFruits                     6           0         144\n",
       "MntMeatProducts               8           5         562\n",
       "MntFishProducts               7           7         104\n",
       "MntSweetProducts              4           0          64\n",
       "MntGoldProds                 25           2         224\n",
       "NumDealsPurchases             1           1           1\n",
       "NumWebPurchases               2           1           4\n",
       "NumCatalogPurchases           1           0           6\n",
       "NumStorePurchases             2           2           4\n",
       "NumWebVisitsMonth             5           4           1\n",
       "AcceptedCmp3                  0           0           0\n",
       "AcceptedCmp4                  0           0           0\n",
       "AcceptedCmp5                  0           0           1\n",
       "AcceptedCmp1                  0           0           0\n",
       "AcceptedCmp2                  0           0           0\n",
       "Complain                      1           0           0\n",
       "Z_CostContact                 3           3           3\n",
       "Z_Revenue                    11          11          11\n",
       "Response                      0           0           0"
      ]
     },
     "execution_count": 26,
     "metadata": {},
     "output_type": "execute_result"
    }
   ],
   "source": [
    "df.loc[extreme_outliers.index].T"
   ]
  },
  {
   "cell_type": "code",
   "execution_count": null,
   "metadata": {},
   "outputs": [],
   "source": []
  },
  {
   "cell_type": "code",
   "execution_count": null,
   "metadata": {},
   "outputs": [],
   "source": []
  },
  {
   "cell_type": "code",
   "execution_count": null,
   "metadata": {},
   "outputs": [],
   "source": []
  }
 ],
 "metadata": {
  "interpreter": {
   "hash": "f5b5ef3134a629acf698fc0f192d5dd8c15af14ca049ed986e9c779f0e64d9b7"
  },
  "kernelspec": {
   "display_name": "Python 3 (ipykernel)",
   "language": "python",
   "name": "python3"
  },
  "language_info": {
   "codemirror_mode": {
    "name": "ipython",
    "version": 3
   },
   "file_extension": ".py",
   "mimetype": "text/x-python",
   "name": "python",
   "nbconvert_exporter": "python",
   "pygments_lexer": "ipython3",
   "version": "3.9.5"
  }
 },
 "nbformat": 4,
 "nbformat_minor": 2
}
